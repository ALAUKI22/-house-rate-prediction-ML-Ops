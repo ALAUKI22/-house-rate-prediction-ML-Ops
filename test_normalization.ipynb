{
  "nbformat": 4,
  "nbformat_minor": 0,
  "metadata": {
    "colab": {
      "provenance": []
    },
    "kernelspec": {
      "name": "python3",
      "display_name": "Python 3"
    },
    "language_info": {
      "name": "python"
    }
  },
  "cells": [
    {
      "cell_type": "code",
      "execution_count": 1,
      "metadata": {
        "id": "7y2gmeZ4SwRv"
      },
      "outputs": [],
      "source": [
        "from sklearn.model_selection import train_test_split\n",
        "from sklearn.preprocessing import StandardScaler\n",
        "import pickle\n",
        "import numpy as np"
      ]
    },
    {
      "cell_type": "code",
      "source": [
        "with open('/content/drive/MyDrive/SEM 7/ML - Ops/scaler.pkl','rb') as f:\n",
        "  scaler = pickle.load(f)"
      ],
      "metadata": {
        "id": "EBTzzkSFS5gX"
      },
      "execution_count": 2,
      "outputs": []
    },
    {
      "cell_type": "code",
      "source": [
        "x_test = np.load('/content/drive/MyDrive/SEM 7/ML - Ops/x_test.npy', allow_pickle=True)"
      ],
      "metadata": {
        "id": "mH-1mr9FTdbu"
      },
      "execution_count": 3,
      "outputs": []
    },
    {
      "cell_type": "code",
      "source": [
        "x_train_normalized_Main = np.load('/content/drive/MyDrive/SEM 7/ML - Ops/x_train_normalized.npy', allow_pickle=True)\n",
        "x_test_normalized_Main = np.load('/content/drive/MyDrive/SEM 7/ML - Ops/x_test_normalized.npy' ,allow_pickle=True)"
      ],
      "metadata": {
        "id": "CNrTMbnGRlK1"
      },
      "execution_count": 4,
      "outputs": []
    },
    {
      "cell_type": "code",
      "source": [
        "'''Converting pd series to numpy array'''\n",
        "x_test = np.asarray(x_test).reshape(-1,1)"
      ],
      "metadata": {
        "id": "5MirPUDyTte-"
      },
      "execution_count": 5,
      "outputs": []
    },
    {
      "cell_type": "code",
      "source": [
        "x_test_normalized = scaler.transform(x_test)"
      ],
      "metadata": {
        "id": "_S28ybGnTuAm"
      },
      "execution_count": 6,
      "outputs": []
    },
    {
      "cell_type": "code",
      "source": [
        "x_test_normalized"
      ],
      "metadata": {
        "colab": {
          "base_uri": "https://localhost:8080/"
        },
        "id": "qMs_vOQ1TwvG",
        "outputId": "5e067e68-76a4-4115-e48a-f5e8bcce83e2"
      },
      "execution_count": 7,
      "outputs": [
        {
          "output_type": "execute_result",
          "data": {
            "text/plain": [
              "array([[ 0.33875048],\n",
              "       [ 0.61125674],\n",
              "       [-0.5060189 ],\n",
              "       [-0.0700089 ],\n",
              "       [-0.54235307],\n",
              "       [ 0.7111757 ],\n",
              "       [ 1.52869446],\n",
              "       [-0.07455067],\n",
              "       [-0.86936058],\n",
              "       [-1.11461621],\n",
              "       [ 1.55594508],\n",
              "       [-0.55416168],\n",
              "       [-0.65135557],\n",
              "       [-0.93294537],\n",
              "       [-0.5378113 ],\n",
              "       [-0.69223151],\n",
              "       [-1.43254017],\n",
              "       [ 0.38416819],\n",
              "       [ 0.31604163],\n",
              "       [ 0.38416819],\n",
              "       [-0.06092536],\n",
              "       [ 0.75886429],\n",
              "       [-0.68360215],\n",
              "       [-0.61502141],\n",
              "       [ 1.40606664],\n",
              "       [ 2.18270947],\n",
              "       [-0.93748714],\n",
              "       [-0.97836308],\n",
              "       [ 3.65424324],\n",
              "       [-0.97836308],\n",
              "       [-0.52418599],\n",
              "       [-0.92386183],\n",
              "       [ 0.38416819],\n",
              "       [ 0.6634871 ],\n",
              "       [-0.17219874],\n",
              "       [-0.25167973],\n",
              "       [-0.23078759],\n",
              "       [-0.8966112 ],\n",
              "       [-0.76035808],\n",
              "       [-1.0751028 ],\n",
              "       [ 1.28343883],\n",
              "       [-0.69223151],\n",
              "       [ 0.57492257],\n",
              "       [-0.43335057],\n",
              "       [ 0.72480101],\n",
              "       [ 0.33193783],\n",
              "       [ 0.38416819],\n",
              "       [-0.23351265],\n",
              "       [ 1.31523123],\n",
              "       [-0.97836308],\n",
              "       [ 1.0540794 ],\n",
              "       [-0.97836308],\n",
              "       [ 1.18806164],\n",
              "       [-0.29709744],\n",
              "       [-0.68768974],\n",
              "       [-1.01923902],\n",
              "       [ 0.27062392],\n",
              "       [-1.25086933],\n",
              "       [ 0.58854788],\n",
              "       [-0.61502141],\n",
              "       [-0.8966112 ],\n",
              "       [-1.37122626],\n",
              "       [ 0.58400611],\n",
              "       [-0.08817598],\n",
              "       [ 0.09349485],\n",
              "       [-0.63318849],\n",
              "       [ 0.65667445],\n",
              "       [-0.97836308],\n",
              "       [ 1.47419321],\n",
              "       [ 0.24791506],\n",
              "       [-1.04648964],\n",
              "       [ 0.54767194],\n",
              "       [ 1.47419321],\n",
              "       [ 2.4279651 ],\n",
              "       [-1.12188304],\n",
              "       [-0.40609994],\n",
              "       [-0.69223151],\n",
              "       [-0.15403166],\n",
              "       [ 0.38416819],\n",
              "       [ 0.06624423],\n",
              "       [ 0.54767194],\n",
              "       [-0.48785182],\n",
              "       [ 0.15707965],\n",
              "       [ 0.68846684],\n",
              "       [-1.5687933 ],\n",
              "       [ 0.36600111],\n",
              "       [-1.0691985 ],\n",
              "       [-0.77398339],\n",
              "       [ 1.02909966],\n",
              "       [ 0.38416819],\n",
              "       [-1.47568699],\n",
              "       [ 1.31523123],\n",
              "       [ 0.13437079],\n",
              "       [-0.79215047],\n",
              "       [ 1.55594508],\n",
              "       [-0.66043912],\n",
              "       [ 0.30604973],\n",
              "       [ 0.29333277],\n",
              "       [ 0.15707965],\n",
              "       [ 0.65667445],\n",
              "       [-0.86936058],\n",
              "       [-0.25167973],\n",
              "       [-0.99198839],\n",
              "       [-0.84210995],\n",
              "       [ 0.38416819],\n",
              "       [ 0.80655289],\n",
              "       [ 0.38416819],\n",
              "       [ 0.38416819],\n",
              "       [ 0.4295859 ]])"
            ]
          },
          "metadata": {},
          "execution_count": 7
        }
      ]
    },
    {
      "cell_type": "code",
      "source": [
        "np.mean(x_test_normalized)"
      ],
      "metadata": {
        "colab": {
          "base_uri": "https://localhost:8080/"
        },
        "id": "7Iy9gDOiPSt9",
        "outputId": "5a0c1634-94e0-4175-9813-5ba6d7beec3e"
      },
      "execution_count": 8,
      "outputs": [
        {
          "output_type": "execute_result",
          "data": {
            "text/plain": [
              "-0.008182479453515227"
            ]
          },
          "metadata": {},
          "execution_count": 8
        }
      ]
    },
    {
      "cell_type": "code",
      "source": [
        "np.std(x_test_normalized)"
      ],
      "metadata": {
        "colab": {
          "base_uri": "https://localhost:8080/"
        },
        "id": "tLp3ZWzDRIfA",
        "outputId": "9f8f5377-3262-4990-a793-5caf832855ba"
      },
      "execution_count": 9,
      "outputs": [
        {
          "output_type": "execute_result",
          "data": {
            "text/plain": [
              "0.9210591725069316"
            ]
          },
          "metadata": {},
          "execution_count": 9
        }
      ]
    },
    {
      "cell_type": "code",
      "source": [
        "x_test"
      ],
      "metadata": {
        "colab": {
          "base_uri": "https://localhost:8080/"
        },
        "id": "FwlLN_zYRTxd",
        "outputId": "82c8cdb1-c1eb-4a37-89d2-1045e1d6a822"
      },
      "execution_count": 10,
      "outputs": [
        {
          "output_type": "execute_result",
          "data": {
            "text/plain": [
              "array([[ 5900],\n",
              "       [ 6500],\n",
              "       [ 4040],\n",
              "       [ 5000],\n",
              "       [ 3960],\n",
              "       [ 6720],\n",
              "       [ 8520],\n",
              "       [ 4990],\n",
              "       [ 3240],\n",
              "       [ 2700],\n",
              "       [ 8580],\n",
              "       [ 3934],\n",
              "       [ 3720],\n",
              "       [ 3100],\n",
              "       [ 3970],\n",
              "       [ 3630],\n",
              "       [ 2000],\n",
              "       [ 6000],\n",
              "       [ 5850],\n",
              "       [ 6000],\n",
              "       [ 5020],\n",
              "       [ 6825],\n",
              "       [ 3649],\n",
              "       [ 3800],\n",
              "       [ 8250],\n",
              "       [ 9960],\n",
              "       [ 3090],\n",
              "       [ 3000],\n",
              "       [13200],\n",
              "       [ 3000],\n",
              "       [ 4000],\n",
              "       [ 3120],\n",
              "       [ 6000],\n",
              "       [ 6615],\n",
              "       [ 4775],\n",
              "       [ 4600],\n",
              "       [ 4646],\n",
              "       [ 3180],\n",
              "       [ 3480],\n",
              "       [ 2787],\n",
              "       [ 7980],\n",
              "       [ 3630],\n",
              "       [ 6420],\n",
              "       [ 4200],\n",
              "       [ 6750],\n",
              "       [ 5885],\n",
              "       [ 6000],\n",
              "       [ 4640],\n",
              "       [ 8050],\n",
              "       [ 3000],\n",
              "       [ 7475],\n",
              "       [ 3000],\n",
              "       [ 7770],\n",
              "       [ 4500],\n",
              "       [ 3640],\n",
              "       [ 2910],\n",
              "       [ 5750],\n",
              "       [ 2400],\n",
              "       [ 6450],\n",
              "       [ 3800],\n",
              "       [ 3180],\n",
              "       [ 2135],\n",
              "       [ 6440],\n",
              "       [ 4960],\n",
              "       [ 5360],\n",
              "       [ 3760],\n",
              "       [ 6600],\n",
              "       [ 3000],\n",
              "       [ 8400],\n",
              "       [ 5700],\n",
              "       [ 2850],\n",
              "       [ 6360],\n",
              "       [ 8400],\n",
              "       [10500],\n",
              "       [ 2684],\n",
              "       [ 4260],\n",
              "       [ 3630],\n",
              "       [ 4815],\n",
              "       [ 6000],\n",
              "       [ 5300],\n",
              "       [ 6360],\n",
              "       [ 4080],\n",
              "       [ 5500],\n",
              "       [ 6670],\n",
              "       [ 1700],\n",
              "       [ 5960],\n",
              "       [ 2800],\n",
              "       [ 3450],\n",
              "       [ 7420],\n",
              "       [ 6000],\n",
              "       [ 1905],\n",
              "       [ 8050],\n",
              "       [ 5450],\n",
              "       [ 3410],\n",
              "       [ 8580],\n",
              "       [ 3700],\n",
              "       [ 5828],\n",
              "       [ 5800],\n",
              "       [ 5500],\n",
              "       [ 6600],\n",
              "       [ 3240],\n",
              "       [ 4600],\n",
              "       [ 2970],\n",
              "       [ 3300],\n",
              "       [ 6000],\n",
              "       [ 6930],\n",
              "       [ 6000],\n",
              "       [ 6000],\n",
              "       [ 6100]])"
            ]
          },
          "metadata": {},
          "execution_count": 10
        }
      ]
    },
    {
      "cell_type": "code",
      "source": [
        "x_test_normalized_Main == x_test_normalized\n"
      ],
      "metadata": {
        "id": "cIppGmjdStcn",
        "colab": {
          "base_uri": "https://localhost:8080/"
        },
        "outputId": "82b673ad-abd4-4fef-9545-9a7b7ab5d679"
      },
      "execution_count": 11,
      "outputs": [
        {
          "output_type": "execute_result",
          "data": {
            "text/plain": [
              "array([[ True],\n",
              "       [ True],\n",
              "       [ True],\n",
              "       [ True],\n",
              "       [ True],\n",
              "       [ True],\n",
              "       [ True],\n",
              "       [ True],\n",
              "       [ True],\n",
              "       [ True],\n",
              "       [ True],\n",
              "       [ True],\n",
              "       [ True],\n",
              "       [ True],\n",
              "       [ True],\n",
              "       [ True],\n",
              "       [ True],\n",
              "       [ True],\n",
              "       [ True],\n",
              "       [ True],\n",
              "       [ True],\n",
              "       [ True],\n",
              "       [ True],\n",
              "       [ True],\n",
              "       [ True],\n",
              "       [ True],\n",
              "       [ True],\n",
              "       [ True],\n",
              "       [ True],\n",
              "       [ True],\n",
              "       [ True],\n",
              "       [ True],\n",
              "       [ True],\n",
              "       [ True],\n",
              "       [ True],\n",
              "       [ True],\n",
              "       [ True],\n",
              "       [ True],\n",
              "       [ True],\n",
              "       [ True],\n",
              "       [ True],\n",
              "       [ True],\n",
              "       [ True],\n",
              "       [ True],\n",
              "       [ True],\n",
              "       [ True],\n",
              "       [ True],\n",
              "       [ True],\n",
              "       [ True],\n",
              "       [ True],\n",
              "       [ True],\n",
              "       [ True],\n",
              "       [ True],\n",
              "       [ True],\n",
              "       [ True],\n",
              "       [ True],\n",
              "       [ True],\n",
              "       [ True],\n",
              "       [ True],\n",
              "       [ True],\n",
              "       [ True],\n",
              "       [ True],\n",
              "       [ True],\n",
              "       [ True],\n",
              "       [ True],\n",
              "       [ True],\n",
              "       [ True],\n",
              "       [ True],\n",
              "       [ True],\n",
              "       [ True],\n",
              "       [ True],\n",
              "       [ True],\n",
              "       [ True],\n",
              "       [ True],\n",
              "       [ True],\n",
              "       [ True],\n",
              "       [ True],\n",
              "       [ True],\n",
              "       [ True],\n",
              "       [ True],\n",
              "       [ True],\n",
              "       [ True],\n",
              "       [ True],\n",
              "       [ True],\n",
              "       [ True],\n",
              "       [ True],\n",
              "       [ True],\n",
              "       [ True],\n",
              "       [ True],\n",
              "       [ True],\n",
              "       [ True],\n",
              "       [ True],\n",
              "       [ True],\n",
              "       [ True],\n",
              "       [ True],\n",
              "       [ True],\n",
              "       [ True],\n",
              "       [ True],\n",
              "       [ True],\n",
              "       [ True],\n",
              "       [ True],\n",
              "       [ True],\n",
              "       [ True],\n",
              "       [ True],\n",
              "       [ True],\n",
              "       [ True],\n",
              "       [ True],\n",
              "       [ True],\n",
              "       [ True]])"
            ]
          },
          "metadata": {},
          "execution_count": 11
        }
      ]
    },
    {
      "cell_type": "code",
      "source": [
        "predictions = np.load('/content/drive/MyDrive/SEM 7/ML - Ops/Predictions.npy', allow_pickle=True)"
      ],
      "metadata": {
        "id": "wY5XxcinVXbg"
      },
      "execution_count": 12,
      "outputs": []
    },
    {
      "cell_type": "code",
      "source": [
        "from sklearn.metrics import mean_absolute_error,mean_squared_error"
      ],
      "metadata": {
        "id": "ABnirzbdVkG_"
      },
      "execution_count": 13,
      "outputs": []
    },
    {
      "cell_type": "code",
      "source": [
        "y_test = np.load('/content/drive/MyDrive/SEM 7/ML - Ops/y_test.npy', allow_pickle=True)"
      ],
      "metadata": {
        "id": "fVjoZKrbVv6L"
      },
      "execution_count": 14,
      "outputs": []
    },
    {
      "cell_type": "code",
      "source": [
        "y_test.shape"
      ],
      "metadata": {
        "colab": {
          "base_uri": "https://localhost:8080/"
        },
        "id": "TTMDqSIAS0LR",
        "outputId": "b191a76f-fc7b-497f-8e16-334ab491a509"
      },
      "execution_count": 15,
      "outputs": [
        {
          "output_type": "execute_result",
          "data": {
            "text/plain": [
              "(109,)"
            ]
          },
          "metadata": {},
          "execution_count": 15
        }
      ]
    },
    {
      "cell_type": "code",
      "source": [
        "mae = mean_absolute_error(y_test, predictions)\n",
        "\n",
        "#squared True returns MSE value, False returns RMSE value.\n",
        "mse = mean_squared_error(y_test, predictions) #default=True\n",
        "rmse = mean_squared_error(y_test, predictions,squared=False)\n",
        "print(\"MAE:\",mae)\n",
        "print(\"MSE:\",mse)\n",
        "print(\"RMSE:\",rmse)"
      ],
      "metadata": {
        "colab": {
          "base_uri": "https://localhost:8080/"
        },
        "id": "iSfbykWfVnBX",
        "outputId": "1189e9c7-9c65-4b44-f716-e0e887b6dd79"
      },
      "execution_count": 16,
      "outputs": [
        {
          "output_type": "stream",
          "name": "stdout",
          "text": [
            "MAE: 1474748.1337969352\n",
            "MSE: 3675286604768.1855\n",
            "RMSE: 1917103.7021424235\n"
          ]
        }
      ]
    }
  ]
}